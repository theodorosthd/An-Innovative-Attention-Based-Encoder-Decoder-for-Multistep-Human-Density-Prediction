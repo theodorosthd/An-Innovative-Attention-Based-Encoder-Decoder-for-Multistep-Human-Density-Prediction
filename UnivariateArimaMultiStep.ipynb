{
  "nbformat": 4,
  "nbformat_minor": 0,
  "metadata": {
    "colab": {
      "name": "UnivariateArimaMultiStep.ipynb",
      "provenance": [],
      "collapsed_sections": []
    },
    "kernelspec": {
      "name": "python3",
      "display_name": "Python 3"
    },
    "language_info": {
      "name": "python"
    }
  },
  "cells": [
    {
      "cell_type": "markdown",
      "metadata": {
        "id": "EirJ_3rAuht6"
      },
      "source": [
        "# Set up drive and load dataframe "
      ]
    },
    {
      "cell_type": "code",
      "metadata": {
        "id": "dPsPv1lao7ts"
      },
      "source": [
        "import pandas as pd\n",
        "import matplotlib as mpl\n",
        "import matplotlib.pyplot as plt\n",
        "import numpy as np\n",
        "from google.colab import drive\n",
        "drive.mount('/content/gdrive')"
      ],
      "execution_count": null,
      "outputs": []
    },
    {
      "cell_type": "code",
      "metadata": {
        "colab": {
          "base_uri": "https://localhost:8080/",
          "height": 206
        },
        "id": "vOoOf-uSo8mo",
        "outputId": "9ae6ea47-bb90-4656-9e1d-e9bb56ed6fa5"
      },
      "source": [
        "df = pd.read_csv('gdrive/MyDrive/SumoSimulationWeeklyDataset/cpmob.csv' )\n",
        "df.columns =['timestamp', 'region_1', 'region_2', 'region_3','region_4','region_5','region_6']\n",
        "df.head(5)"
      ],
      "execution_count": 3,
      "outputs": [
        {
          "output_type": "execute_result",
          "data": {
            "text/plain": [
              "   timestamp  region_1  region_2  region_3  region_4  region_5  region_6\n",
              "0        1.0     154.0     184.0     107.0     119.0      94.0      89.0\n",
              "1        2.0     322.0     358.0     196.0     236.0     147.0     176.0\n",
              "2        3.0     469.0     451.0     334.0     375.0     165.0     246.0\n",
              "3        4.0     574.0     567.0     445.0     460.0     190.0     307.0\n",
              "4        5.0     608.0     628.0     490.0     533.0     240.0     348.0"
            ],
            "text/html": [
              "\n",
              "  <div id=\"df-31fd56d9-e855-41cf-a82d-dbf3070b37bc\">\n",
              "    <div class=\"colab-df-container\">\n",
              "      <div>\n",
              "<style scoped>\n",
              "    .dataframe tbody tr th:only-of-type {\n",
              "        vertical-align: middle;\n",
              "    }\n",
              "\n",
              "    .dataframe tbody tr th {\n",
              "        vertical-align: top;\n",
              "    }\n",
              "\n",
              "    .dataframe thead th {\n",
              "        text-align: right;\n",
              "    }\n",
              "</style>\n",
              "<table border=\"1\" class=\"dataframe\">\n",
              "  <thead>\n",
              "    <tr style=\"text-align: right;\">\n",
              "      <th></th>\n",
              "      <th>timestamp</th>\n",
              "      <th>region_1</th>\n",
              "      <th>region_2</th>\n",
              "      <th>region_3</th>\n",
              "      <th>region_4</th>\n",
              "      <th>region_5</th>\n",
              "      <th>region_6</th>\n",
              "    </tr>\n",
              "  </thead>\n",
              "  <tbody>\n",
              "    <tr>\n",
              "      <th>0</th>\n",
              "      <td>1.0</td>\n",
              "      <td>154.0</td>\n",
              "      <td>184.0</td>\n",
              "      <td>107.0</td>\n",
              "      <td>119.0</td>\n",
              "      <td>94.0</td>\n",
              "      <td>89.0</td>\n",
              "    </tr>\n",
              "    <tr>\n",
              "      <th>1</th>\n",
              "      <td>2.0</td>\n",
              "      <td>322.0</td>\n",
              "      <td>358.0</td>\n",
              "      <td>196.0</td>\n",
              "      <td>236.0</td>\n",
              "      <td>147.0</td>\n",
              "      <td>176.0</td>\n",
              "    </tr>\n",
              "    <tr>\n",
              "      <th>2</th>\n",
              "      <td>3.0</td>\n",
              "      <td>469.0</td>\n",
              "      <td>451.0</td>\n",
              "      <td>334.0</td>\n",
              "      <td>375.0</td>\n",
              "      <td>165.0</td>\n",
              "      <td>246.0</td>\n",
              "    </tr>\n",
              "    <tr>\n",
              "      <th>3</th>\n",
              "      <td>4.0</td>\n",
              "      <td>574.0</td>\n",
              "      <td>567.0</td>\n",
              "      <td>445.0</td>\n",
              "      <td>460.0</td>\n",
              "      <td>190.0</td>\n",
              "      <td>307.0</td>\n",
              "    </tr>\n",
              "    <tr>\n",
              "      <th>4</th>\n",
              "      <td>5.0</td>\n",
              "      <td>608.0</td>\n",
              "      <td>628.0</td>\n",
              "      <td>490.0</td>\n",
              "      <td>533.0</td>\n",
              "      <td>240.0</td>\n",
              "      <td>348.0</td>\n",
              "    </tr>\n",
              "  </tbody>\n",
              "</table>\n",
              "</div>\n",
              "      <button class=\"colab-df-convert\" onclick=\"convertToInteractive('df-31fd56d9-e855-41cf-a82d-dbf3070b37bc')\"\n",
              "              title=\"Convert this dataframe to an interactive table.\"\n",
              "              style=\"display:none;\">\n",
              "        \n",
              "  <svg xmlns=\"http://www.w3.org/2000/svg\" height=\"24px\"viewBox=\"0 0 24 24\"\n",
              "       width=\"24px\">\n",
              "    <path d=\"M0 0h24v24H0V0z\" fill=\"none\"/>\n",
              "    <path d=\"M18.56 5.44l.94 2.06.94-2.06 2.06-.94-2.06-.94-.94-2.06-.94 2.06-2.06.94zm-11 1L8.5 8.5l.94-2.06 2.06-.94-2.06-.94L8.5 2.5l-.94 2.06-2.06.94zm10 10l.94 2.06.94-2.06 2.06-.94-2.06-.94-.94-2.06-.94 2.06-2.06.94z\"/><path d=\"M17.41 7.96l-1.37-1.37c-.4-.4-.92-.59-1.43-.59-.52 0-1.04.2-1.43.59L10.3 9.45l-7.72 7.72c-.78.78-.78 2.05 0 2.83L4 21.41c.39.39.9.59 1.41.59.51 0 1.02-.2 1.41-.59l7.78-7.78 2.81-2.81c.8-.78.8-2.07 0-2.86zM5.41 20L4 18.59l7.72-7.72 1.47 1.35L5.41 20z\"/>\n",
              "  </svg>\n",
              "      </button>\n",
              "      \n",
              "  <style>\n",
              "    .colab-df-container {\n",
              "      display:flex;\n",
              "      flex-wrap:wrap;\n",
              "      gap: 12px;\n",
              "    }\n",
              "\n",
              "    .colab-df-convert {\n",
              "      background-color: #E8F0FE;\n",
              "      border: none;\n",
              "      border-radius: 50%;\n",
              "      cursor: pointer;\n",
              "      display: none;\n",
              "      fill: #1967D2;\n",
              "      height: 32px;\n",
              "      padding: 0 0 0 0;\n",
              "      width: 32px;\n",
              "    }\n",
              "\n",
              "    .colab-df-convert:hover {\n",
              "      background-color: #E2EBFA;\n",
              "      box-shadow: 0px 1px 2px rgba(60, 64, 67, 0.3), 0px 1px 3px 1px rgba(60, 64, 67, 0.15);\n",
              "      fill: #174EA6;\n",
              "    }\n",
              "\n",
              "    [theme=dark] .colab-df-convert {\n",
              "      background-color: #3B4455;\n",
              "      fill: #D2E3FC;\n",
              "    }\n",
              "\n",
              "    [theme=dark] .colab-df-convert:hover {\n",
              "      background-color: #434B5C;\n",
              "      box-shadow: 0px 1px 3px 1px rgba(0, 0, 0, 0.15);\n",
              "      filter: drop-shadow(0px 1px 2px rgba(0, 0, 0, 0.3));\n",
              "      fill: #FFFFFF;\n",
              "    }\n",
              "  </style>\n",
              "\n",
              "      <script>\n",
              "        const buttonEl =\n",
              "          document.querySelector('#df-31fd56d9-e855-41cf-a82d-dbf3070b37bc button.colab-df-convert');\n",
              "        buttonEl.style.display =\n",
              "          google.colab.kernel.accessAllowed ? 'block' : 'none';\n",
              "\n",
              "        async function convertToInteractive(key) {\n",
              "          const element = document.querySelector('#df-31fd56d9-e855-41cf-a82d-dbf3070b37bc');\n",
              "          const dataTable =\n",
              "            await google.colab.kernel.invokeFunction('convertToInteractive',\n",
              "                                                     [key], {});\n",
              "          if (!dataTable) return;\n",
              "\n",
              "          const docLinkHtml = 'Like what you see? Visit the ' +\n",
              "            '<a target=\"_blank\" href=https://colab.research.google.com/notebooks/data_table.ipynb>data table notebook</a>'\n",
              "            + ' to learn more about interactive tables.';\n",
              "          element.innerHTML = '';\n",
              "          dataTable['output_type'] = 'display_data';\n",
              "          await google.colab.output.renderOutput(dataTable, element);\n",
              "          const docLink = document.createElement('div');\n",
              "          docLink.innerHTML = docLinkHtml;\n",
              "          element.appendChild(docLink);\n",
              "        }\n",
              "      </script>\n",
              "    </div>\n",
              "  </div>\n",
              "  "
            ]
          },
          "metadata": {},
          "execution_count": 3
        }
      ]
    },
    {
      "cell_type": "markdown",
      "metadata": {
        "id": "cl2ewXBEumkX"
      },
      "source": [
        "# Install arima package (if not already installed) "
      ]
    },
    {
      "cell_type": "code",
      "metadata": {
        "id": "FHZc1ekZwVTA"
      },
      "source": [
        "! pip install pmdarima"
      ],
      "execution_count": null,
      "outputs": []
    },
    {
      "cell_type": "markdown",
      "metadata": {
        "id": "uWICSA1cusjO"
      },
      "source": [
        "# Set up lead times "
      ]
    },
    {
      "cell_type": "code",
      "metadata": {
        "id": "t3N7fytOwktm"
      },
      "source": [
        "# return a list of relative forecast lead times\n",
        "def get_lead_times():\n",
        "\treturn [1, 2, 3, 4, 5, 6]"
      ],
      "execution_count": 5,
      "outputs": []
    },
    {
      "cell_type": "markdown",
      "metadata": {
        "id": "qOlPZ3SNvA0G"
      },
      "source": [
        "# Set up data structures to maintain the values of the predictions for each step\n"
      ]
    },
    {
      "cell_type": "code",
      "metadata": {
        "id": "fVUNwDs0qmU3"
      },
      "source": [
        "# Run in case you want to rerun in the same session -> Reset list \n",
        "predictionSteps.clear()"
      ],
      "execution_count": null,
      "outputs": []
    },
    {
      "cell_type": "code",
      "metadata": {
        "id": "Km92zCtOnlVE"
      },
      "source": [
        "predictionSteps = []\n",
        "for i in range(6):\n",
        "  predictionSteps.append([])"
      ],
      "execution_count": 8,
      "outputs": []
    },
    {
      "cell_type": "code",
      "metadata": {
        "id": "Lznz2btX4JZd"
      },
      "source": [
        "# Run in case you want to rerun in the same session -> Reset list \n",
        "testSteps.clear()"
      ],
      "execution_count": null,
      "outputs": []
    },
    {
      "cell_type": "code",
      "metadata": {
        "id": "EMJeMT7E3h4s"
      },
      "source": [
        "offset = 6\n",
        "testSteps = []\n",
        "for i in range(6):\n",
        "  testSteps.append([])\n",
        "\n",
        "X = df.region_6.values\n",
        "size = 1_152\n",
        "for i in range(6):\n",
        "  testSteps[i] = X[size+i:int(len(X)-offset+i)]"
      ],
      "execution_count": 10,
      "outputs": []
    },
    {
      "cell_type": "markdown",
      "metadata": {
        "id": "gTM0aGb4vZpx"
      },
      "source": [
        "# Univariate Multistep forecast implementation (for 6 steps ahead) "
      ]
    },
    {
      "cell_type": "code",
      "metadata": {
        "id": "RsRGYdJTrh_x"
      },
      "source": [
        "from numpy import array\n",
        "from numpy import nanmedian\n",
        "from statsmodels.tsa.arima.model import ARIMA\n",
        "import time\n",
        "from sklearn.metrics import mean_squared_error\n",
        "from sklearn.metrics import mean_absolute_error\n",
        "from math import sqrt\n",
        "from matplotlib import pyplot\n",
        "from warnings import catch_warnings\n",
        "from warnings import filterwarnings\n",
        "\n",
        "X = df.region_6.values\n",
        "size = 1_152\n",
        "train, test = X[0:size], X[size:int(len(X)-offset)]\n",
        "history = [x for x in train]\n",
        "predictions = list()\n",
        "total_size = len(test)\n",
        "count = 1\n",
        "for t in range(int(len(test))):\n",
        "  print('current=%d, total=%d' % (count, total_size))\n",
        "  count = count + 1\n",
        "  # define the model\n",
        "  model = ARIMA(history, order=(0,1,0)) # Define Parameters for ARMA-ARIMA model \n",
        "  # return a nan forecast in case of exception\n",
        "  try:\n",
        "    # ignore statsmodels warnings\n",
        "    with catch_warnings():\n",
        "      filterwarnings(\"ignore\")\n",
        "      # fit the model\n",
        "      model_fit = model.fit()\n",
        "      # forecast half an hour\n",
        "      yhat = model_fit.predict(len(history), len(history)+6)\n",
        "      # extract lead times\n",
        "      lead_times = array(get_lead_times())\n",
        "      indices = lead_times - 1\n",
        "      #print(yhat[indices])\n",
        "      for i in range(6):\n",
        "        predictionSteps[i].append(yhat[i])\n",
        "        #predictions.append(yhat[i])\n",
        "      obs = test[t]\n",
        "      #for i in range(6):\n",
        "        #history.append(obs[i])\n",
        "      history.append(obs)\n",
        "      #print('predicted=%f, expected=%f' % (yhat, obs))\n",
        "  except:\n",
        "    print(\"exception\") "
      ],
      "execution_count": null,
      "outputs": []
    },
    {
      "cell_type": "markdown",
      "metadata": {
        "id": "7Lv6XDLDubJl"
      },
      "source": [
        "# Metrics Calculation and Representation"
      ]
    },
    {
      "cell_type": "code",
      "metadata": {
        "id": "eVkCSV63HPMp"
      },
      "source": [
        "scores = list()\n",
        "scores2 = list()\n",
        "# evaluate forecasts\n",
        "for i in range(6):\n",
        "  mae = mean_absolute_error(testSteps[i], predictionSteps[i])\n",
        "  print('MAE: %.3f' % mae)\n",
        "  scores.append(mae)\n",
        "  rmse = sqrt(mean_squared_error(testSteps[i], predictionSteps[i]))\n",
        "  print('RMSE: %.3f' % rmse)\n",
        "  scores2.append(rmse)\n"
      ],
      "execution_count": null,
      "outputs": []
    },
    {
      "cell_type": "code",
      "metadata": {
        "id": "_acIWwtYHbRo"
      },
      "source": [
        "s_scores = ', '.join(['%.4f' % s for s in scores])\n",
        "s_scores2 = ', '.join(['%.4f' % s for s in scores2])\n",
        "print('%s:  %s' % (\"MAE\",  s_scores))\n",
        "print('%s:  %s' % (\"RMSE\", s_scores2))"
      ],
      "execution_count": null,
      "outputs": []
    },
    {
      "cell_type": "code",
      "source": [
        ""
      ],
      "metadata": {
        "id": "iN65_pTVSMWE"
      },
      "execution_count": null,
      "outputs": []
    }
  ]
}